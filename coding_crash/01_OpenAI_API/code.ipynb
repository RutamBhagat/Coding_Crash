{
 "cells": [
  {
   "cell_type": "code",
   "execution_count": 1,
   "metadata": {},
   "outputs": [
    {
     "data": {
      "text/plain": [
       "True"
      ]
     },
     "execution_count": 1,
     "metadata": {},
     "output_type": "execute_result"
    }
   ],
   "source": [
    "from dotenv import load_dotenv, find_dotenv\n",
    "\n",
    "load_dotenv(find_dotenv())"
   ]
  },
  {
   "cell_type": "code",
   "execution_count": 4,
   "metadata": {},
   "outputs": [],
   "source": [
    "from openai import OpenAI\n",
    "\n",
    "client = OpenAI()"
   ]
  },
  {
   "cell_type": "code",
   "execution_count": 11,
   "metadata": {},
   "outputs": [],
   "source": [
    "completion = client.chat.completions.create(\n",
    "    model=\"gpt-3.5-turbo\",\n",
    "    messages=[\n",
    "        {\n",
    "            \"role\": \"system\",\n",
    "            \"content\": \"You are a helpful assistant specialized in providing information about Bellavista Italian Restaurant.\",\n",
    "        },\n",
    "        {\"role\": \"user\", \"content\": \"What's on the menu?\"},\n",
    "        {\n",
    "            \"role\": \"assistant\",\n",
    "            \"content\": \"Bellavista offers a variety of dishes, including pasta, pizza, and seafood. Would you like to see the full menu?\",\n",
    "        },\n",
    "        {\"role\": \"user\", \"content\": \"Yes, please.\"},\n",
    "        {\"role\": \"assistant\", \"content\": \"Great! Here is the menu:\"},\n",
    "        {\"role\": \"user\", \"content\": \"What type of pasta do you have?\"},\n",
    "    ],\n",
    ")"
   ]
  },
  {
   "cell_type": "code",
   "execution_count": 12,
   "metadata": {},
   "outputs": [
    {
     "name": "stdout",
     "output_type": "stream",
     "text": [
      "Bellavista offers a variety of pasta dishes, including classics like Spaghetti Bolognese, Fettuccine Alfredo, and Lasagna. They also have specialties like Gnocchi Gorgonzola, Penne Arrabbiata, and seafood pasta dishes like Linguine alle Vongole.\n"
     ]
    }
   ],
   "source": [
    "print(completion.choices[0].message.content)"
   ]
  },
  {
   "cell_type": "markdown",
   "metadata": {},
   "source": [
    "## Streaming"
   ]
  },
  {
   "cell_type": "code",
   "execution_count": 13,
   "metadata": {},
   "outputs": [
    {
     "name": "stdout",
     "output_type": "stream",
     "text": [
      "Bellavista offers a variety of pasta dishes, including spaghetti carbonara, fettuccine alfredo, penne arrabbiata, and lasagna. They also have pasta specials that may vary each day. Let me know if you would like more details on any specific pasta dish."
     ]
    }
   ],
   "source": [
    "model_name = \"gpt-3.5-turbo\"\n",
    "\n",
    "stream = client.chat.completions.create(\n",
    "    model=model_name,\n",
    "    messages=[\n",
    "        {\n",
    "            \"role\": \"system\",\n",
    "            \"content\": \"You are a helpful assistant specialized in providing information about Bellavista Italian Restaurant.\",\n",
    "        },\n",
    "        {\"role\": \"user\", \"content\": \"What's on the menu?\"},\n",
    "        {\n",
    "            \"role\": \"assistant\",\n",
    "            \"content\": \"Bellavista offers a variety of dishes, including pasta, pizza, and seafood. Would you like to see the full menu?\",\n",
    "        },\n",
    "        {\"role\": \"user\", \"content\": \"Yes, please.\"},\n",
    "        {\"role\": \"assistant\", \"content\": \"Great! Here is the menu:\"},\n",
    "        {\"role\": \"user\", \"content\": \"What type of pasta do you have?\"},\n",
    "    ],\n",
    "    stream=True,\n",
    ")\n",
    "\n",
    "for chunk in stream:\n",
    "    if chunk.choices[0].delta.content is not None:\n",
    "        print(chunk.choices[0].delta.content, end=\"\")"
   ]
  }
 ],
 "metadata": {
  "kernelspec": {
   "display_name": ".venv",
   "language": "python",
   "name": "python3"
  },
  "language_info": {
   "codemirror_mode": {
    "name": "ipython",
    "version": 3
   },
   "file_extension": ".py",
   "mimetype": "text/x-python",
   "name": "python",
   "nbconvert_exporter": "python",
   "pygments_lexer": "ipython3",
   "version": "3.11.9"
  }
 },
 "nbformat": 4,
 "nbformat_minor": 2
}
