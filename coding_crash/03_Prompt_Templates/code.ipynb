{
 "cells": [
  {
   "cell_type": "markdown",
   "metadata": {},
   "source": [
    "### Prompts"
   ]
  },
  {
   "cell_type": "markdown",
   "metadata": {},
   "source": [
    "Prompt allow you to create System Messages with input variables, for example, this: \n",
    "SystemMessage(content=\"You are a helpful assistant that translates the English to Spanish.\") \n",
    "English and Spanish may be dynamic and this can be achieved with templates"
   ]
  },
  {
   "cell_type": "code",
   "execution_count": 7,
   "metadata": {},
   "outputs": [
    {
     "data": {
      "text/plain": [
       "True"
      ]
     },
     "execution_count": 7,
     "metadata": {},
     "output_type": "execute_result"
    }
   ],
   "source": [
    "from dotenv import load_dotenv, find_dotenv\n",
    "\n",
    "load_dotenv(find_dotenv())"
   ]
  },
  {
   "cell_type": "code",
   "execution_count": 8,
   "metadata": {},
   "outputs": [],
   "source": [
    "TEMPLATE = \"\"\"\n",
    "You are a helpful assistant that translates the {input_language} text to {output_language}.\n",
    "\"\"\""
   ]
  },
  {
   "cell_type": "code",
   "execution_count": 9,
   "metadata": {},
   "outputs": [
    {
     "data": {
      "text/plain": [
       "'\\nYou are a helpful assistant that translates the English text to French.\\n'"
      ]
     },
     "execution_count": 9,
     "metadata": {},
     "output_type": "execute_result"
    }
   ],
   "source": [
    "from langchain.prompts import PromptTemplate\n",
    "from langchain.schema import prompt_template\n",
    "\n",
    "\n",
    "prompt_template = PromptTemplate.from_template(\n",
    "    template=TEMPLATE,\n",
    ")\n",
    "prompt_template.format(input_language=\"English\", output_language=\"French\")"
   ]
  },
  {
   "cell_type": "markdown",
   "metadata": {},
   "source": [
    "Passing the input_variables to the constructor will provide additional validation for the template"
   ]
  },
  {
   "cell_type": "code",
   "execution_count": 10,
   "metadata": {},
   "outputs": [
    {
     "data": {
      "text/plain": [
       "'\\nYou are a helpful assistant that translates the French text to English.\\n'"
      ]
     },
     "execution_count": 10,
     "metadata": {},
     "output_type": "execute_result"
    }
   ],
   "source": [
    "prompt_template = PromptTemplate(\n",
    "    template=TEMPLATE, input_variables=[\"input_language\", \"output_language\"]\n",
    ")\n",
    "prompt_template.format(input_language=\"French\", output_language=\"English\")"
   ]
  },
  {
   "cell_type": "markdown",
   "metadata": {},
   "source": [
    "### Few Shot Prompt: Provide few examples in the template"
   ]
  },
  {
   "cell_type": "code",
   "execution_count": 11,
   "metadata": {},
   "outputs": [],
   "source": [
    "TEMPLATE = \"\"\"\n",
    "Interprete the text and evaluate the text.\n",
    "sentiment: is the text in a positive, neutral or negative sentiment?\n",
    "subject: What subject is the text about? Use exactly one word.\n",
    "\n",
    "Format the output as JSON with following keys:\n",
    "sentiment\n",
    "subject\n",
    "\n",
    "text: {input}\n",
    "\"\"\""
   ]
  },
  {
   "cell_type": "markdown",
   "metadata": {},
   "source": [
    "To improve performance we can provide examples to increase the quality of the output"
   ]
  },
  {
   "cell_type": "code",
   "execution_count": 12,
   "metadata": {},
   "outputs": [],
   "source": [
    "TEMPLATE = \"\"\"\n",
    "Interprete the text and evaluate the text.\n",
    "sentiment: is the text in a positive, neutral or negative sentiment?\n",
    "subject: What subject is the text about? Use exactly one word.\n",
    "\n",
    "Format the output as JSON with following keys:\n",
    "sentiment\n",
    "subject\n",
    "\n",
    "text: {input}\n",
    "\n",
    "Examples:\n",
    "text: The BellaVista restaurant offers an exquisite dining experience. The flavors are rich and the service is impeccable.\n",
    "sentiment: positive\n",
    "subject: BellaVista\n",
    "\n",
    "text: BellaVista restaurant was alright. The food was decent but nothing special.\n",
    "sentiment: neutral\n",
    "subject: BellaVista\n",
    "\n",
    "text: I was disappointed by the BellaVista restaurant. The food was bland and the service was slow.\n",
    "sentiment: negative\n",
    "subject: BellaVista\n",
    "\"\"\""
   ]
  },
  {
   "cell_type": "code",
   "execution_count": 13,
   "metadata": {},
   "outputs": [
    {
     "data": {
      "text/plain": [
       "'\\nInterprete the text and evaluate the text.\\nsentiment: is the text in a positive, neutral or negative sentiment?\\nsubject: What subject is the text about? Use exactly one word.\\n\\nFormat the output as JSON with following keys:\\nsentiment\\nsubject\\n\\ntext: The food at BellaVista just blew my mind. The flavors are rich and the service is impeccable.\\n\\nExamples:\\ntext: The BellaVista restaurant offers an exquisite dining experience. The flavors are rich and the service is impeccable.\\nsentiment: positive\\nsubject: BellaVista\\n\\ntext: BellaVista restaurant was alright. The food was decent but nothing special.\\nsentiment: neutral\\nsubject: BellaVista\\n\\ntext: I was disappointed by the BellaVista restaurant. The food was bland and the service was slow.\\nsentiment: negative\\nsubject: BellaVista\\n'"
      ]
     },
     "execution_count": 13,
     "metadata": {},
     "output_type": "execute_result"
    }
   ],
   "source": [
    "prompt_template = PromptTemplate(template=TEMPLATE, input_variables=[\"input\"])\n",
    "prompt_template.format(\n",
    "    input=\"The food at BellaVista just blew my mind. The flavors are rich and the service is impeccable.\"\n",
    ")"
   ]
  },
  {
   "cell_type": "markdown",
   "metadata": {},
   "source": [
    "LangChain also provides a FewShotPromptTemplate class which allows creating the examples more modularized"
   ]
  },
  {
   "cell_type": "code",
   "execution_count": 14,
   "metadata": {},
   "outputs": [],
   "source": [
    "from langchain.prompts import FewShotPromptTemplate\n",
    "\n",
    "examples = [\n",
    "    {\n",
    "        \"text\": \"The BellaVista restaurant offers an exquisite dining experience. The flavors are rich and the service is impeccable.\",\n",
    "        \"response\": \"sentiment: positive\\nsubject: BellaVista\",\n",
    "    },\n",
    "    {\n",
    "        \"text\": \"BellaVista restaurant was alright. The food was decent but nothing special.\",\n",
    "        \"response\": \"sentiment: neutral\\nsubject: BellaVista\",\n",
    "    },\n",
    "    {\n",
    "        \"text\": \"I was disappointed by the BellaVista restaurant. The food was bland and the service was slow.\",\n",
    "        \"response\": \"sentiment: negative\\nsubject: BellaVista\",\n",
    "    },\n",
    "]"
   ]
  },
  {
   "cell_type": "code",
   "execution_count": 15,
   "metadata": {},
   "outputs": [],
   "source": [
    "example_prompt = PromptTemplate(\n",
    "    template=\"Text: {text}\\n{response}\", input_variables=[\"input\", \"response\"]\n",
    ")"
   ]
  },
  {
   "cell_type": "code",
   "execution_count": 16,
   "metadata": {},
   "outputs": [],
   "source": [
    "prompt = FewShotPromptTemplate(\n",
    "    examples=examples,\n",
    "    example_prompt=example_prompt,\n",
    "    suffix=\"text: {input}\",\n",
    "    input_variables=[\"input\"],\n",
    ")"
   ]
  },
  {
   "cell_type": "code",
   "execution_count": 17,
   "metadata": {},
   "outputs": [
    {
     "name": "stdout",
     "output_type": "stream",
     "text": [
      "Text: The BellaVista restaurant offers an exquisite dining experience. The flavors are rich and the service is impeccable.\n",
      "sentiment: positive\n",
      "subject: BellaVista\n",
      "\n",
      "Text: BellaVista restaurant was alright. The food was decent but nothing special.\n",
      "sentiment: neutral\n",
      "subject: BellaVista\n",
      "\n",
      "Text: I was disappointed by the BellaVista restaurant. The food was bland and the service was slow.\n",
      "sentiment: negative\n",
      "subject: BellaVista\n",
      "\n",
      "text: The food at BellaVista just blew my mind. The flavors are rich and the service is impeccable.\n"
     ]
    }
   ],
   "source": [
    "print(\n",
    "    prompt.format(\n",
    "        input=\"The food at BellaVista just blew my mind. The flavors are rich and the service is impeccable.\"\n",
    "    )\n",
    ")"
   ]
  },
  {
   "cell_type": "markdown",
   "metadata": {},
   "source": [
    "### Chain of thought prompting"
   ]
  },
  {
   "cell_type": "markdown",
   "metadata": {},
   "source": [
    "Instead of just providing examples, we can also provide examples which include the whole thought process of why a review is negative, neutral or positive"
   ]
  },
  {
   "cell_type": "code",
   "execution_count": 18,
   "metadata": {},
   "outputs": [],
   "source": [
    "TEMPLATE = \"\"\"\n",
    "Interprete the text and evaluate the text. Determine if the text has a positive, neutral or negative sentiment.\n",
    "Also Format the output as JSON with the following keys:\n",
    "sentiment\n",
    "subject\n",
    "\n",
    "text: {input}\n",
    "\n",
    "Chain-of-Thought Prompts:\n",
    "Let's start by evaluating a statement. Consider: \"The BellaVista restaurant offers an exquisite dining experience. The flavors are rich and the service is impeccable.\"\n",
    "It sounds like a positive review for BellaVista\n",
    "\n",
    "Based on the postive nature of the statement, how would you format your response?\n",
    "{\"sentiment\": \"positive\", \"subject\": \"BellaVista\"}\n",
    "\n",
    "Now think about this: \"SeoulSavor was okay. The bibimbap was good but the bulgogi was a bit too seet for my taste\"\n",
    "Does it sounds positive? Not particularly, it seems like a mix of good and not so good elements so its nautral\n",
    "\n",
    "Given the neutral sentiment how should this be presented?\n",
    "{\"sentiment\": \"neutral\", \"subject\": \"SeoulSavor\"}\n",
    "\n",
    "Laastly, ponder on this: \"I was let down by MunichMeals. The potato salad lacked flavor and the schnitzel was overcooked.\"\n",
    "The statement is clearly negative, how would you format the response?\n",
    "{\"sentiment\": \"negative\", \"subject\": \"MunichMeals\"}\n",
    "\n",
    "\"\"\""
   ]
  },
  {
   "cell_type": "markdown",
   "metadata": {},
   "source": [
    "### Composition"
   ]
  },
  {
   "cell_type": "markdown",
   "metadata": {},
   "source": [
    "You can also compose multiple prompts together. This can be especially useful if you want to reuse parts of prompts"
   ]
  },
  {
   "cell_type": "code",
   "execution_count": 19,
   "metadata": {},
   "outputs": [],
   "source": [
    "from langchain.prompts.pipeline import PipelinePromptTemplate\n",
    "from langchain.prompts.prompt import PromptTemplate\n",
    "\n",
    "# Introduction\n",
    "introduction_template = \"\"\"\n",
    "Interprete the text and evaluate the text. Determine if the text has a positive, neutral, or negative sentiment. Also, identify the subject of the text in one word.\n",
    "\"\"\"\n",
    "introduction_prompt = PromptTemplate.from_template(introduction_template)\n",
    "\n",
    "# Example\n",
    "example_template = \"\"\"\n",
    "Chain-of-Thought Prompts:\n",
    "Let's start by evaluating a statement. Consider: \"{example_text}\". How does this make you feel about {example_subject}?\n",
    "Response: {example_evaluation}\n",
    "\n",
    "Based on the {example_sentiment} nature of that statement, how would you format your response?\n",
    "Response: {example_format}\n",
    "\"\"\"\n",
    "example_prompt = PromptTemplate.from_template(example_template)\n",
    "\n",
    "# Execution\n",
    "execution_template = \"\"\"\n",
    "Now, execute this process for the text: \"{input}\".\n",
    "\"\"\"\n",
    "execution_prompt = PromptTemplate.from_template(execution_template)\n",
    "\n",
    "# Composing the full prompt\n",
    "full_template = \"\"\"{introduction}\n",
    "\n",
    "{example}\n",
    "\n",
    "{execution}\"\"\"\n",
    "full_prompt = PromptTemplate.from_template(full_template)\n",
    "\n",
    "# PipelinePrompts\n",
    "input_prompts = [\n",
    "    (\"introduction\", introduction_prompt),\n",
    "    (\"example\", example_prompt),\n",
    "    (\"execution\", execution_prompt),\n",
    "]\n",
    "pipeline_prompt = PipelinePromptTemplate(\n",
    "    final_prompt=full_prompt, pipeline_prompts=input_prompts\n",
    ")"
   ]
  },
  {
   "cell_type": "code",
   "execution_count": 20,
   "metadata": {},
   "outputs": [
    {
     "name": "stdout",
     "output_type": "stream",
     "text": [
      "\n",
      "Interprete the text and evaluate the text. Determine if the text has a positive, neutral, or negative sentiment. Also, identify the subject of the text in one word.\n",
      "\n",
      "\n",
      "\n",
      "Chain-of-Thought Prompts:\n",
      "Let's start by evaluating a statement. Consider: \"The BellaVista restaurant offers an exquisite dining experience. The flavors are rich and the presentation is impeccable.\". How does this make you feel about BellaVista?\n",
      "Response: It sounds like a positive review for BellaVista.\n",
      "\n",
      "Based on the positive nature of that statement, how would you format your response?\n",
      "Response: { \"sentiment\": \"positive\", \"subject\": \"BellaVista\" }\n",
      "\n",
      "\n",
      "\n",
      "Now, execute this process for the text: \"The new restaurant downtown has bland dishes and the wait time is too long.\".\n",
      "\n"
     ]
    }
   ],
   "source": [
    "print(\n",
    "    pipeline_prompt.format(\n",
    "        example_text=\"The BellaVista restaurant offers an exquisite dining experience. The flavors are rich and the presentation is impeccable.\",\n",
    "        example_subject=\"BellaVista\",\n",
    "        example_evaluation=\"It sounds like a positive review for BellaVista.\",\n",
    "        example_sentiment=\"positive\",\n",
    "        example_format='{ \"sentiment\": \"positive\", \"subject\": \"BellaVista\" }',\n",
    "        input=\"The new restaurant downtown has bland dishes and the wait time is too long.\",\n",
    "    )\n",
    ")"
   ]
  },
  {
   "cell_type": "markdown",
   "metadata": {},
   "source": [
    "### Serializing prompts"
   ]
  },
  {
   "cell_type": "markdown",
   "metadata": {},
   "source": [
    "Example is an easy prompt since serializing does not work for the PipelinePromptTemplate (yet)"
   ]
  },
  {
   "cell_type": "code",
   "execution_count": 21,
   "metadata": {},
   "outputs": [],
   "source": [
    "prompt = PromptTemplate(\n",
    "    input_variables=[\"input\"], template=\"Tell me a joke about {input}\"\n",
    ")\n",
    "prompt.save(\"prompt.yaml\")\n",
    "prompt.save(\"prompt.json\")"
   ]
  },
  {
   "cell_type": "code",
   "execution_count": 22,
   "metadata": {},
   "outputs": [
    {
     "data": {
      "text/plain": [
       "'Tell me a joke about chickens'"
      ]
     },
     "execution_count": 22,
     "metadata": {},
     "output_type": "execute_result"
    }
   ],
   "source": [
    "from langchain.prompts import load_prompt\n",
    "\n",
    "prompt = load_prompt(\"prompt.yaml\")\n",
    "prompt.format(input=\"chickens\")"
   ]
  },
  {
   "cell_type": "code",
   "execution_count": 23,
   "metadata": {},
   "outputs": [
    {
     "data": {
      "text/plain": [
       "'Tell me a joke about cows'"
      ]
     },
     "execution_count": 23,
     "metadata": {},
     "output_type": "execute_result"
    }
   ],
   "source": [
    "prompt = load_prompt(\"prompt.json\")\n",
    "prompt.format(input=\"cows\")"
   ]
  }
 ],
 "metadata": {
  "kernelspec": {
   "display_name": ".venv",
   "language": "python",
   "name": "python3"
  },
  "language_info": {
   "codemirror_mode": {
    "name": "ipython",
    "version": 3
   },
   "file_extension": ".py",
   "mimetype": "text/x-python",
   "name": "python",
   "nbconvert_exporter": "python",
   "pygments_lexer": "ipython3",
   "version": "3.11.9"
  }
 },
 "nbformat": 4,
 "nbformat_minor": 2
}
